{
 "cells": [
  {
   "cell_type": "markdown",
   "metadata": {},
   "source": [
    "# 1. What's the difference between regular grammar and regular expressions?"
   ]
  },
  {
   "cell_type": "markdown",
   "metadata": {},
   "source": [
    "* RegEx: It is a type of object will help you out to extract information from any string data by searching through text and find it out what you need.Whether it's punctuation, numbers, letters, or even white spaces, RegEx will allow you to check and match any of the character combination in strings. Notations are eay to understand.\n",
    "\n",
    "  A set of string is defined in case of Regular Expressions.\n",
    "\n",
    "\n",
    "* Regular grammar:  are most useful in describing the nested chain structure or syntactic structure such as balanced parenthesis, if else etc. these can’t be define by Regular Expression. Notations are quite complex.\n",
    "\n",
    "  In Context free grammar the language is defined by the collection of productions."
   ]
  },
  {
   "cell_type": "markdown",
   "metadata": {},
   "source": [
    "# 2. In the context of NLP, what is parsing?"
   ]
  },
  {
   "cell_type": "markdown",
   "metadata": {},
   "source": [
    "Syntactic Parsing are used to extract noun, verb, and prepositional phrases and are context-free grammar. parsing is breaking down of sentence into tokens."
   ]
  },
  {
   "cell_type": "markdown",
   "metadata": {},
   "source": [
    "# 3. What exactly is the TF-IDF procedure?"
   ]
  },
  {
   "cell_type": "markdown",
   "metadata": {},
   "source": [
    "TF-IDF (term frequency-inverse document frequency) is a statistical measure that evaluates how relevant a word is to a document in a collection of documents. This is done by multiplying two metrics: how many times a word appears in a document, and the inverse document frequency of the word across a set of documents."
   ]
  },
  {
   "cell_type": "markdown",
   "metadata": {},
   "source": [
    "# 4. Which factors influence Natural Language Processing interpretation?"
   ]
  },
  {
   "cell_type": "markdown",
   "metadata": {},
   "source": [
    "Natural Language Processing or NLP works on the unstructured form of data, and it depends upon several factors such as regional languages, accent, grammar, tone, NER ,and sentiments."
   ]
  },
  {
   "cell_type": "markdown",
   "metadata": {},
   "source": [
    "# 5. What are the different types of conversational interfaces?"
   ]
  },
  {
   "cell_type": "markdown",
   "metadata": {},
   "source": [
    "A conversational interface is a software interface that allow users to write or speak in natural language to software..\n",
    "conversational interfaces use natural language processing (NLP) to allow computers to understand, analyze, and create meaning from human language.\n",
    "\n",
    "* types: \n",
    "\n",
    "1)Voice virtual assistance like amazon alexa & Siri\n",
    "\n",
    "2)chatbots"
   ]
  },
  {
   "cell_type": "markdown",
   "metadata": {},
   "source": [
    "# 6. Apply Uni-gram and Bi-grammar-gram to the statement \"I am really happy.\""
   ]
  },
  {
   "cell_type": "markdown",
   "metadata": {},
   "source": [
    "* Uni-gram: Is a one-word sequence. For the above sentence, the unigrams would simply be: 'I','am','really','happy'.\n",
    "\n",
    "\n",
    "* bBi-gram: Is a two-word sequence. For the above sentence, the bigrams would simply be:'I am','am really','really happy'."
   ]
  }
 ],
 "metadata": {
  "kernelspec": {
   "display_name": "Python 3",
   "language": "python",
   "name": "python3"
  },
  "language_info": {
   "codemirror_mode": {
    "name": "ipython",
    "version": 3
   },
   "file_extension": ".py",
   "mimetype": "text/x-python",
   "name": "python",
   "nbconvert_exporter": "python",
   "pygments_lexer": "ipython3",
   "version": "3.7.3"
  }
 },
 "nbformat": 4,
 "nbformat_minor": 2
}
